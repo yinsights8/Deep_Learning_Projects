{
 "cells": [
  {
   "cell_type": "markdown",
   "id": "e010adee",
   "metadata": {},
   "source": [
    "## import libraries"
   ]
  },
  {
   "cell_type": "code",
   "execution_count": 1,
   "id": "7af745b7",
   "metadata": {},
   "outputs": [],
   "source": [
    "# !pip install matplotlib==3.2.1 mpld3==0.5.5"
   ]
  },
  {
   "cell_type": "code",
   "execution_count": 2,
   "id": "ae950a1f",
   "metadata": {},
   "outputs": [],
   "source": [
    "# !pip install librosa"
   ]
  },
  {
   "cell_type": "code",
   "execution_count": 1,
   "id": "5290122c",
   "metadata": {},
   "outputs": [],
   "source": [
    "# this is library which is use to prerprocess the audio data and also nommalize the data\n",
    "import librosa"
   ]
  },
  {
   "cell_type": "code",
   "execution_count": null,
   "id": "9c8cd52c",
   "metadata": {},
   "outputs": [],
   "source": []
  },
  {
   "cell_type": "code",
   "execution_count": 3,
   "id": "156cdcd2",
   "metadata": {},
   "outputs": [],
   "source": [
    "## this is the library which is use to display the audio data\n",
    "import IPython.display as ipd\n",
    "\n",
    "# scipy.io is also the library which with the help we can prepross the audio data but it dosen't normalize the data\n",
    "from scipy.io import wavfile as wav"
   ]
  },
  {
   "cell_type": "code",
   "execution_count": null,
   "id": "05029691",
   "metadata": {},
   "outputs": [],
   "source": [
    "# Visualization libraries\n",
    "\n",
    "import matplotlib.pyplot as plt\n",
    "import seaborn as ss"
   ]
  }
 ],
 "metadata": {
  "kernelspec": {
   "display_name": "Python 3 (ipykernel)",
   "language": "python",
   "name": "python3"
  },
  "language_info": {
   "codemirror_mode": {
    "name": "ipython",
    "version": 3
   },
   "file_extension": ".py",
   "mimetype": "text/x-python",
   "name": "python",
   "nbconvert_exporter": "python",
   "pygments_lexer": "ipython3",
   "version": "3.9.13"
  }
 },
 "nbformat": 4,
 "nbformat_minor": 5
}
